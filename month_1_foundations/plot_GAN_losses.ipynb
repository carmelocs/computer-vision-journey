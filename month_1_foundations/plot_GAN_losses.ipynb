{
 "cells": [
  {
   "cell_type": "markdown",
   "id": "d8a48c37",
   "metadata": {},
   "source": [
    "## Python + Matplotlib for plotting mathematical functions\n",
    "```bash \n",
    "pip install matplotlib numpy\n",
    "```"
   ]
  },
  {
   "cell_type": "code",
   "execution_count": null,
   "id": "454e773d",
   "metadata": {
    "vscode": {
     "languageId": "plaintext"
    }
   },
   "outputs": [],
   "source": []
  }
 ],
 "metadata": {
  "language_info": {
   "name": "python"
  }
 },
 "nbformat": 4,
 "nbformat_minor": 5
}
