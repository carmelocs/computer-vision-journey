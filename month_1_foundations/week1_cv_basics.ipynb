{
 "cells": [
  {
   "cell_type": "markdown",
   "id": "d598920b",
   "metadata": {},
   "source": [
    "# 🖼️ Week 1: Computer Vision Basics  \n",
    "**Author**: Shawn Cheng \n",
    "**Date**: 19 Sep 2025  \n",
    "**Purpose**: Learn core CV concepts (CNNs, image processing) and practice with OpenCV & PyTorch  \n",
    "\n",
    "> This notebook covers:  \n",
    "> - Image loading and preprocessing  \n",
    "> - Basic transformations (grayscale, blur, edge detection)  \n",
    "> - Introduction to CNNs via PyTorch"
   ]
  },
  {
   "cell_type": "markdown",
   "id": "ba25cadf",
   "metadata": {},
   "source": [
    "### 🔄 Convert Image to Grayscale\n",
    "Using OpenCV to convert BGR (default) to grayscale for preprocessing."
   ]
  },
  {
   "cell_type": "code",
   "execution_count": null,
   "id": "ff731ad6",
   "metadata": {},
   "outputs": [],
   "source": [
    "import cv2\n",
    "\n",
    "# Load image and convert to grayscale for face detection prep\n",
    "img = cv2.imread('face.png')\n",
    "gray = cv2.cvtColor(img, cv2.COLOR_BGR2GRAY)\n",
    "cv2.imshow('Grayscale', gray)\n",
    "cv2.waitKey(0)\n",
    "cv2.destroyAllWindows()"
   ]
  },
  {
   "cell_type": "markdown",
   "id": "27153bde",
   "metadata": {},
   "source": [
    "# 📝 Key Takeaways\n",
    "1. **OpenCV** is powerful for preprocessing (resize, crop, filter).\n",
    "2. **Color spaces matter** — OpenCV uses BGR, not RGB.\n",
    "3. **Edge detection (Canny)** helps identify facial boundaries.\n",
    "4. **CNNs use convolutions** to detect local patterns like edges and textures.\n",
    "\n",
    "📌 Next: Apply these concepts to understand GAN architectures."
   ]
  },
  {
   "cell_type": "markdown",
   "id": "4ccbc429",
   "metadata": {},
   "source": []
  }
 ],
 "metadata": {
  "kernelspec": {
   "display_name": "base",
   "language": "python",
   "name": "python3"
  },
  "language_info": {
   "codemirror_mode": {
    "name": "ipython",
    "version": 3
   },
   "file_extension": ".py",
   "mimetype": "text/x-python",
   "name": "python",
   "nbconvert_exporter": "python",
   "pygments_lexer": "ipython3",
   "version": "3.13.5"
  }
 },
 "nbformat": 4,
 "nbformat_minor": 5
}
